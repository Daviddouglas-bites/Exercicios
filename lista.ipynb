{
 "cells": [
  {
   "cell_type": "code",
   "execution_count": 10,
   "id": "db359763",
   "metadata": {},
   "outputs": [],
   "source": [
    "listas = [[1, 2, 3], ['a', 'b', 'c']]\n"
   ]
  },
  {
   "cell_type": "code",
   "execution_count": 11,
   "id": "1d94a639",
   "metadata": {},
   "outputs": [
    {
     "name": "stdout",
     "output_type": "stream",
     "text": [
      "[[1, 2, 3], ['a', 'b', 'c']]\n"
     ]
    }
   ],
   "source": [
    "print(listas)"
   ]
  },
  {
   "cell_type": "code",
   "execution_count": 6,
   "id": "02c17bd8",
   "metadata": {},
   "outputs": [
    {
     "name": "stdout",
     "output_type": "stream",
     "text": [
      "[[7, 19, 69], [7, 17, 69]]\n"
     ]
    }
   ],
   "source": [
    "lista_number = [7, 17, 69]\n",
    "lista_nome = [7, 19, 69]\n",
    "\n",
    "lista_total = [lista_nome, lista_number]\n",
    "print(lista_total)\n"
   ]
  }
 ],
 "metadata": {
  "kernelspec": {
   "display_name": "Python 3 (ipykernel)",
   "language": "python",
   "name": "python3"
  },
  "language_info": {
   "codemirror_mode": {
    "name": "ipython",
    "version": 3
   },
   "file_extension": ".py",
   "mimetype": "text/x-python",
   "name": "python",
   "nbconvert_exporter": "python",
   "pygments_lexer": "ipython3",
   "version": "3.9.13"
  }
 },
 "nbformat": 4,
 "nbformat_minor": 5
}
