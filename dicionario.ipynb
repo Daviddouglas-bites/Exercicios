{
 "cells": [
  {
   "cell_type": "code",
   "execution_count": 1,
   "id": "691a4fa7",
   "metadata": {},
   "outputs": [],
   "source": [
    "lista_teste = {\"Nomes\",\"Cargos\",\"CPF\"}"
   ]
  },
  {
   "cell_type": "code",
   "execution_count": 2,
   "id": "3b1d553f",
   "metadata": {},
   "outputs": [
    {
     "data": {
      "text/plain": [
       "{'CPF', 'Cargos', 'Nomes'}"
      ]
     },
     "execution_count": 2,
     "metadata": {},
     "output_type": "execute_result"
    }
   ],
   "source": [
    "lista_teste"
   ]
  },
  {
   "cell_type": "code",
   "execution_count": 2,
   "id": "c25e0da8",
   "metadata": {},
   "outputs": [],
   "source": [
    "dicionario_teste = {\"Natal\":25, \"Ano Novo\":31}"
   ]
  },
  {
   "cell_type": "code",
   "execution_count": 3,
   "id": "6bfa0649",
   "metadata": {},
   "outputs": [
    {
     "data": {
      "text/plain": [
       "{'Natal': 25, 'Ano Novo': 31}"
      ]
     },
     "execution_count": 3,
     "metadata": {},
     "output_type": "execute_result"
    }
   ],
   "source": [
    "dicionario_teste"
   ]
  }
 ],
 "metadata": {
  "kernelspec": {
   "display_name": "Python 3 (ipykernel)",
   "language": "python",
   "name": "python3"
  },
  "language_info": {
   "codemirror_mode": {
    "name": "ipython",
    "version": 3
   },
   "file_extension": ".py",
   "mimetype": "text/x-python",
   "name": "python",
   "nbconvert_exporter": "python",
   "pygments_lexer": "ipython3",
   "version": "3.9.13"
  }
 },
 "nbformat": 4,
 "nbformat_minor": 5
}
