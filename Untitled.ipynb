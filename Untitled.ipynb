{
 "cells": [
  {
   "cell_type": "code",
   "execution_count": 5,
   "id": "156c3466",
   "metadata": {},
   "outputs": [
    {
     "name": "stdout",
     "output_type": "stream",
     "text": [
      "Data Science Academy\n"
     ]
    }
   ],
   "source": [
    "s = \"Data Science Academy\"\n",
    "print(s)"
   ]
  },
  {
   "cell_type": "code",
   "execution_count": 6,
   "id": "e6ef90d3",
   "metadata": {},
   "outputs": [
    {
     "name": "stdout",
     "output_type": "stream",
     "text": [
      "Data Science Academy\n"
     ]
    }
   ],
   "source": [
    "print(s)"
   ]
  },
  {
   "cell_type": "code",
   "execution_count": 7,
   "id": "c0f2c785",
   "metadata": {},
   "outputs": [
    {
     "data": {
      "text/plain": [
       "' '"
      ]
     },
     "execution_count": 7,
     "metadata": {},
     "output_type": "execute_result"
    }
   ],
   "source": [
    "s[4]"
   ]
  },
  {
   "cell_type": "code",
   "execution_count": 8,
   "id": "30366e6e",
   "metadata": {},
   "outputs": [
    {
     "data": {
      "text/plain": [
       "'Dt cec cdm'"
      ]
     },
     "execution_count": 8,
     "metadata": {},
     "output_type": "execute_result"
    }
   ],
   "source": [
    "s[: :2]"
   ]
  },
  {
   "cell_type": "code",
   "execution_count": 9,
   "id": "1671f994",
   "metadata": {},
   "outputs": [
    {
     "data": {
      "text/plain": [
       "'ymedacA ecneicS ataD'"
      ]
     },
     "execution_count": 9,
     "metadata": {},
     "output_type": "execute_result"
    }
   ],
   "source": [
    "s[: : -1]"
   ]
  },
  {
   "cell_type": "code",
   "execution_count": 14,
   "id": "2decb050",
   "metadata": {},
   "outputs": [
    {
     "name": "stdout",
     "output_type": "stream",
     "text": [
      "DDD\n"
     ]
    }
   ],
   "source": [
    "letra = s[0]\n",
    "print(letra*3)"
   ]
  },
  {
   "cell_type": "code",
   "execution_count": 17,
   "id": "a8a01425",
   "metadata": {},
   "outputs": [
    {
     "data": {
      "text/plain": [
       "['Data', 'Science', 'Academy']"
      ]
     },
     "execution_count": 17,
     "metadata": {},
     "output_type": "execute_result"
    }
   ],
   "source": [
    "s.split()"
   ]
  },
  {
   "cell_type": "code",
   "execution_count": 19,
   "id": "aa0ec63b",
   "metadata": {},
   "outputs": [
    {
     "data": {
      "text/plain": [
       "3"
      ]
     },
     "execution_count": 19,
     "metadata": {},
     "output_type": "execute_result"
    }
   ],
   "source": [
    "s.count(\"a\")"
   ]
  },
  {
   "cell_type": "code",
   "execution_count": 20,
   "id": "6c292af2",
   "metadata": {},
   "outputs": [],
   "source": [
    "mil = \"1000\""
   ]
  },
  {
   "cell_type": "code",
   "execution_count": 21,
   "id": "6f95e5da",
   "metadata": {},
   "outputs": [
    {
     "name": "stdout",
     "output_type": "stream",
     "text": [
      "1000\n"
     ]
    }
   ],
   "source": [
    "print(mil)"
   ]
  },
  {
   "cell_type": "code",
   "execution_count": 23,
   "id": "691fc05e",
   "metadata": {},
   "outputs": [
    {
     "data": {
      "text/plain": [
       "str"
      ]
     },
     "execution_count": 23,
     "metadata": {},
     "output_type": "execute_result"
    }
   ],
   "source": [
    "type(mil)"
   ]
  },
  {
   "cell_type": "code",
   "execution_count": 24,
   "id": "9c4e0550",
   "metadata": {},
   "outputs": [
    {
     "name": "stdout",
     "output_type": "stream",
     "text": [
      "False\n"
     ]
    }
   ],
   "source": [
    "print('mil' == \"s\")"
   ]
  },
  {
   "cell_type": "code",
   "execution_count": 25,
   "id": "ef97cdf0",
   "metadata": {},
   "outputs": [
    {
     "name": "stdout",
     "output_type": "stream",
     "text": [
      "False\n"
     ]
    }
   ],
   "source": [
    "print(\"mil\" == 1000)"
   ]
  },
  {
   "cell_type": "code",
   "execution_count": 27,
   "id": "40bde656",
   "metadata": {},
   "outputs": [
    {
     "name": "stdout",
     "output_type": "stream",
     "text": [
      "True\n"
     ]
    }
   ],
   "source": [
    "print(mil == \"1000\")"
   ]
  },
  {
   "cell_type": "code",
   "execution_count": null,
   "id": "68b77baf",
   "metadata": {},
   "outputs": [],
   "source": []
  }
 ],
 "metadata": {
  "kernelspec": {
   "display_name": "Python 3 (ipykernel)",
   "language": "python",
   "name": "python3"
  },
  "language_info": {
   "codemirror_mode": {
    "name": "ipython",
    "version": 3
   },
   "file_extension": ".py",
   "mimetype": "text/x-python",
   "name": "python",
   "nbconvert_exporter": "python",
   "pygments_lexer": "ipython3",
   "version": "3.9.13"
  }
 },
 "nbformat": 4,
 "nbformat_minor": 5
}
